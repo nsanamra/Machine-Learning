{
  "nbformat": 4,
  "nbformat_minor": 0,
  "metadata": {
    "colab": {
      "provenance": []
    },
    "kernelspec": {
      "name": "python3",
      "display_name": "Python 3"
    },
    "language_info": {
      "name": "python"
    }
  },
  "cells": [
    {
      "cell_type": "code",
      "execution_count": 1,
      "metadata": {
        "id": "mPVUoyJ6fr29"
      },
      "outputs": [],
      "source": [
        "import heapq"
      ]
    },
    {
      "cell_type": "code",
      "source": [
        "mygraph={}\n",
        "mygraph['A']={'Z': 75, 'T':118, 'S':140}\n",
        "mygraph['B']={'G': 90, 'U':85, 'F':211, 'P':101}\n",
        "mygraph['C']={'D': 120, 'R':146, 'P':138}\n",
        "mygraph['D']={'M': 75, 'C':120}\n",
        "mygraph['E']={'H': 86}\n",
        "mygraph['F']={'S': 99, 'B':211}\n",
        "mygraph['G']={'B': 90}\n",
        "mygraph['H']={'U': 98, 'E':86}\n",
        "mygraph['I']={'N': 87, 'V':92}\n",
        "mygraph['L']={'T': 111, 'M':70}\n",
        "mygraph['M']={'L': 70, 'D':75}\n",
        "mygraph['N']={'I': 87}\n",
        "mygraph['O']={'Z': 71, 'S':151}\n",
        "mygraph['P']={'R': 97, 'C':138, 'B':101}\n",
        "mygraph['R']={'S': 80, 'C':146, 'P':97}\n",
        "mygraph['S']={'O': 151, 'A':140, 'R':80, 'F':99}\n",
        "mygraph['T']={'A': 118, 'L':111}\n",
        "mygraph['U']={'B': 85, 'V':142, 'H':98}\n",
        "mygraph['V']={'I': 92, 'U':142}\n",
        "mygraph['Z']={'A': 75, 'O':71}\n"
      ],
      "metadata": {
        "id": "dDCJlWTcgUPW"
      },
      "execution_count": 2,
      "outputs": []
    },
    {
      "cell_type": "code",
      "source": [
        "SLDToB={'A':366, 'B':0, 'C':160, 'D':242, 'E':161, 'F':178, 'G':77, 'H':151,'I':226, 'L':244, 'M':241, 'N':234,'O':380,'P':98, 'R':193,'S':253,'T':329,'U':80,'V':199, 'Z':374}\n"
      ],
      "metadata": {
        "id": "z0uP4c40gYnN"
      },
      "execution_count": 3,
      "outputs": []
    },
    {
      "cell_type": "markdown",
      "source": [
        "Greedy Algorithm"
      ],
      "metadata": {
        "id": "QroddsSEgb68"
      }
    },
    {
      "cell_type": "code",
      "source": [
        "#choose the one which is smallest SLD (h(n))\n",
        "\n",
        "#Take the graph, starting, ending node and SLDtoB as Input and\n",
        "#Return the path and pathCost.\n",
        "\n",
        "def pathCost(path, graph):\n",
        "    cost = 0\n",
        "    for i in range(len(path) - 1):\n",
        "      cost += graph[path[i]][path[i+1]]\n",
        "\n",
        "    return cost\n",
        "\n",
        "def greedy(graph, start, end, SLD):\n",
        "    path = start\n",
        "    hn = SLD[start]\n",
        "    nodes = [[hn, start, path]]   # Queue holding nodes structure: [[hn], [Current Node], [path]]\n",
        "    heapq.heapify(nodes)\n",
        "\n",
        "    while nodes:\n",
        "        node = heapq.heappop(nodes)\n",
        "\n",
        "        if node[1] == end:\n",
        "          path = node[2]        # Assign the destination node path to the \"path\"\n",
        "\n",
        "          print(\"Path is : \", path)\n",
        "\n",
        "          print(\"Path cost is : \", pathCost(path, graph))\n",
        "          break\n",
        "\n",
        "        for i in graph[node[1]]:\n",
        "          hn = SLD[i]\n",
        "          path = node[2] + i\n",
        "          heapq.heappush(nodes, [hn, i, path])\n",
        "\n",
        "greedy(mygraph, 'A', 'B', SLDToB)\n"
      ],
      "metadata": {
        "colab": {
          "base_uri": "https://localhost:8080/"
        },
        "id": "l5Ei-xregbT2",
        "outputId": "a3fc2247-371b-498c-e40e-66589fd163a2"
      },
      "execution_count": 11,
      "outputs": [
        {
          "output_type": "stream",
          "name": "stdout",
          "text": [
            "Path is :  ASFB\n",
            "Path cost is :  450\n"
          ]
        }
      ]
    },
    {
      "cell_type": "markdown",
      "source": [
        "A* Algorithm"
      ],
      "metadata": {
        "id": "Af0QBzKVpuTG"
      }
    },
    {
      "cell_type": "code",
      "source": [
        "# Choose the one which is smallest fn = hn + gn  ; hn -> heuristic SLD, gn -> distance covered\n",
        "# Take input as graph, start, end and SLD\n",
        "# Return output as path and pathCost\n",
        "\n",
        "def astar(graph, start, end, SLD):\n",
        "    path = start\n",
        "    hn = SLD[start]\n",
        "    fn = hn\n",
        "    nodes = [[fn, start, path, 0]]\n",
        "\n",
        "    while nodes:\n",
        "        node = heapq.heappop(nodes)\n",
        "        fn, currentNode, path, gn = node    # unpack the node array\n",
        "\n",
        "        if node[1] == end:\n",
        "          path = node[2]\n",
        "          print(\"Path is : \", path)\n",
        "          print(\"Path cost is : \", pathCost(path, graph))\n",
        "          break\n",
        "\n",
        "        for i in graph[node[1]]:\n",
        "\n",
        "          new_gn = gn + graph[currentNode][i]\n",
        "\n",
        "          fn = SLD[i] + graph[node[1]][i] + gn      # gn -> distance between current node\n",
        "          path = node[2] + i\n",
        "          heapq.heappush(nodes, [fn, i, path, new_gn])\n",
        "\n",
        "astar(mygraph, 'A', 'B', SLDToB)\n"
      ],
      "metadata": {
        "colab": {
          "base_uri": "https://localhost:8080/"
        },
        "id": "xn3sE-APpt1z",
        "outputId": "ecf2b1b6-cbd1-477e-8248-9b80556baa5f"
      },
      "execution_count": 18,
      "outputs": [
        {
          "output_type": "stream",
          "name": "stdout",
          "text": [
            "Path is :  ASRPB\n",
            "Path cost is :  418\n"
          ]
        }
      ]
    },
    {
      "cell_type": "markdown",
      "source": [
        "Dijkstra's Algorithm"
      ],
      "metadata": {
        "id": "B1aG_Zsotyv4"
      }
    },
    {
      "cell_type": "code",
      "source": [
        "# Choose the one which is smallest gn  : gn -> distance covered\n",
        "# Take input as graph, start, end\n",
        "# Return output as path and pathCost\n",
        "\n",
        "def dijkstra(graph, start, end):\n",
        "    path = start\n",
        "    gn = 0\n",
        "    nodes = [[gn, start, path]]\n",
        "\n",
        "    while nodes:\n",
        "        node = heapq.heappop(nodes)\n",
        "        gn, currentNode, path = node\n",
        "\n",
        "        if node[1] == end:\n",
        "          path = node[2]\n",
        "          print(\"Path is : \", path)\n",
        "          print(\"Path cost is : \", pathCost(path, graph))\n",
        "          break\n",
        "\n",
        "        for i in graph[node[1]]:\n",
        "          new_gn = gn + graph[currentNode][i]       # creating gn for every neighbour node\n",
        "          path = node[2] + i\n",
        "          heapq.heappush(nodes, [new_gn, i, path])\n",
        "\n",
        "dijkstra(mygraph, 'A', 'B')"
      ],
      "metadata": {
        "colab": {
          "base_uri": "https://localhost:8080/"
        },
        "id": "VWBIfAG7tyD7",
        "outputId": "c4fd6d47-2585-4d33-e6d1-ed839d114ed2"
      },
      "execution_count": 19,
      "outputs": [
        {
          "output_type": "stream",
          "name": "stdout",
          "text": [
            "Path is :  ASRPB\n",
            "Path cost is :  418\n"
          ]
        }
      ]
    }
  ]
}